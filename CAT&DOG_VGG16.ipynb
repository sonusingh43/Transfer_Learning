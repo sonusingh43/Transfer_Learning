{
  "nbformat": 4,
  "nbformat_minor": 0,
  "metadata": {
    "colab": {
      "name": "CAT&DOG_VGG16.ipynb",
      "provenance": [],
      "collapsed_sections": []
    },
    "kernelspec": {
      "name": "python3",
      "display_name": "Python 3"
    }
  },
  "cells": [
    {
      "cell_type": "code",
      "metadata": {
        "id": "Xzb4zCBJorB-",
        "colab_type": "code",
        "colab": {}
      },
      "source": [
        "from tensorflow.keras.layers import Input,Lambda ,Layer,Dense,Flatten,Dropout\n",
        "from tensorflow.keras.models import Model\n",
        "from tensorflow.keras.applications.vgg16 import VGG16\n",
        "from tensorflow.keras.applications.vgg16 import preprocess_input\n",
        "from tensorflow.keras.preprocessing import  image\n",
        "from tensorflow.keras.preprocessing.image import ImageDataGenerator\n",
        "from tensorflow.keras.models import Sequential\n",
        "import numpy as np\n",
        "from glob import glob\n",
        "import matplotlib.pyplot as plt\n",
        "from tensorflow.keras import applications"
      ],
      "execution_count": 0,
      "outputs": []
    },
    {
      "cell_type": "code",
      "metadata": {
        "id": "dsYoe8GSosvi",
        "colab_type": "code",
        "outputId": "edcd4a34-e837-447e-8267-05baeabfef5e",
        "colab": {
          "base_uri": "https://localhost:8080/",
          "height": 51
        }
      },
      "source": [
        "import tensorflow as tf\n",
        "print(tf.__version__)\n",
        "!git clone https://github.com/sonusingh43/Transfer_Learning"
      ],
      "execution_count": 0,
      "outputs": [
        {
          "output_type": "stream",
          "text": [
            "2.2.0-rc1\n",
            "fatal: destination path 'Transfer_Learning' already exists and is not an empty directory.\n"
          ],
          "name": "stdout"
        }
      ]
    },
    {
      "cell_type": "code",
      "metadata": {
        "id": "m74e-Vbtoz66",
        "colab_type": "code",
        "colab": {}
      },
      "source": [
        "img_width, img_height = 150, 150\n",
        "\n",
        "top_model_weights_path = 'bottleneck_fc_model.h5'\n",
        "train_data_dir=r'/content/Transfer_Learning/Data_repo/train/'\n",
        "test_data_dir =r'/content/Transfer_Learning/Data_repo/test/'\n",
        "validation_data_dir =r'/content/Transfer_Learning/Data_repo/validation/'\n",
        "\n",
        "nb_train_samples = 2000\n",
        "nb_validation_samples = 800\n",
        "epochs = 50\n",
        "batch_size = 16"
      ],
      "execution_count": 0,
      "outputs": []
    },
    {
      "cell_type": "code",
      "metadata": {
        "id": "x7aUf3P0pATH",
        "colab_type": "code",
        "outputId": "7fd0809e-86af-49a6-d099-cc81499f22f4",
        "colab": {
          "base_uri": "https://localhost:8080/",
          "height": 51
        }
      },
      "source": [
        "\n",
        "datagen = ImageDataGenerator(rescale=1. / 255)\n",
        "\n",
        "    # build the VGG16 network\n",
        "model = applications.VGG16(include_top=False, weights='imagenet')\n",
        "\n",
        "generator = datagen.flow_from_directory(\n",
        "        train_data_dir,\n",
        "        target_size=(img_width, img_height),\n",
        "        batch_size=batch_size,\n",
        "        class_mode=None,\n",
        "        shuffle=False)\n",
        "bottleneck_features_train = model.predict_generator(\n",
        "        generator, nb_train_samples // batch_size)\n",
        "np.save(open('bottleneck_features_train.npy', 'wb'),\n",
        "            bottleneck_features_train)\n",
        "\n",
        "generator = datagen.flow_from_directory(\n",
        "        validation_data_dir,\n",
        "        target_size=(img_width, img_height),\n",
        "        batch_size=batch_size,\n",
        "        class_mode=None,\n",
        "        shuffle=False)\n",
        "bottleneck_features_validation = model.predict_generator(\n",
        "        generator, nb_validation_samples // batch_size)\n",
        "np.save(open('bottleneck_features_validation.npy', 'wb'),\n",
        "            bottleneck_features_validation)\n",
        "\n",
        "bottleneck_features_test = model.predict_generator(\n",
        "        test_generator, nb_test_samples // batch_size)\n",
        "np.save(open('bottleneck_features_test.npy', 'wb'),\n",
        "            bottleneck_features_test)\n",
        "\n",
        "\n"
      ],
      "execution_count": 0,
      "outputs": [
        {
          "output_type": "stream",
          "text": [
            "Found 2000 images belonging to 2 classes.\n",
            "Found 800 images belonging to 2 classes.\n"
          ],
          "name": "stdout"
        }
      ]
    },
    {
      "cell_type": "code",
      "metadata": {
        "id": "eRlABZBqpEdr",
        "colab_type": "code",
        "colab": {}
      },
      "source": [
        ""
      ],
      "execution_count": 0,
      "outputs": []
    },
    {
      "cell_type": "code",
      "metadata": {
        "id": "yuOcH5nPk3YE",
        "colab_type": "code",
        "outputId": "1d7c14df-c69b-4d27-db1f-34c7a188b6dd",
        "colab": {
          "base_uri": "https://localhost:8080/",
          "height": 51
        }
      },
      "source": [
        "\n",
        "datagen = ImageDataGenerator(rescale=1. / 255)\n",
        "\n",
        "    # build the VGG16 network\n",
        "model = applications.VGG16(include_top=False, weights='imagenet')\n",
        "\n",
        "generator = datagen.flow_from_directory(\n",
        "        train_data_dir,\n",
        "        target_size=(img_width, img_height),\n",
        "        batch_size=batch_size,\n",
        "        class_mode=None,\n",
        "        shuffle=False)\n",
        "bottleneck_features_train = model.predict_generator(\n",
        "        generator, nb_train_samples // batch_size)\n",
        "np.save(open('bottleneck_features_train.npy', 'wb'),\n",
        "            bottleneck_features_train)\n",
        "\n",
        "generator = datagen.flow_from_directory(\n",
        "        validation_data_dir,\n",
        "        target_size=(img_width, img_height),\n",
        "        batch_size=batch_size,\n",
        "        class_mode=None,\n",
        "        shuffle=False)\n",
        "bottleneck_features_validation = model.predict_generator(\n",
        "        generator, nb_validation_samples // batch_size)\n",
        "np.save(open('bottleneck_features_validation.npy', 'wb'),\n",
        "            bottleneck_features_validation)"
      ],
      "execution_count": 0,
      "outputs": [
        {
          "output_type": "stream",
          "text": [
            "Found 2000 images belonging to 2 classes.\n",
            "Found 800 images belonging to 2 classes.\n"
          ],
          "name": "stdout"
        }
      ]
    },
    {
      "cell_type": "code",
      "metadata": {
        "id": "E61kgFYypIbo",
        "colab_type": "code",
        "colab": {}
      },
      "source": [
        ""
      ],
      "execution_count": 0,
      "outputs": []
    },
    {
      "cell_type": "code",
      "metadata": {
        "id": "Z-fnADxxk9c2",
        "colab_type": "code",
        "outputId": "a1e4c22f-9816-4436-c3a4-2b9bc65be85d",
        "colab": {
          "base_uri": "https://localhost:8080/",
          "height": 1000
        }
      },
      "source": [
        "\n",
        "train_data = np.load(('bottleneck_features_train.npy'),encoding = 'latin1')\n",
        "print(int(nb_train_samples / 2))\n",
        "#print(nb_train_samples / 2)\n",
        "\n",
        "train_labels = np.array(\n",
        "        [0] * (int(nb_train_samples / 2)) + [1] * (int(nb_train_samples / 2)))\n",
        "print(\"train_labels..\",train_labels)\n",
        "\n",
        "validation_data = np.load(('bottleneck_features_validation.npy'),encoding = 'latin1')\n",
        "validation_labels = np.array(\n",
        "        [0] * (int(nb_validation_samples / 2)) + [1] * (int(nb_validation_samples / 2)))\n",
        "\n",
        "\n",
        "test_gen = ImageDataGenerator(rescale=1./255)\n",
        "\n",
        "\n",
        "\n",
        "test_generator = test_gen.flow_from_directory(\n",
        "        test_data_dir,\n",
        "        target_size=(img_width, img_height),\n",
        "        batch_size=batch_size,\n",
        "        class_mode=None,\n",
        "        shuffle=False)\n",
        "\n",
        "test_data = np.load(('bottleneck_features_test.npy'),encoding = 'latin1')\n",
        "print(int(nb_test_samples / 2))\n",
        "#print(nb_train_samples / 2)\n",
        "\n",
        "test_labels = np.array(\n",
        "        [0] * (int(nb_test_samples / 2)) + [1] * (int(nb_test_samples / 2)))\n",
        "print(\"test_labels..\",test_labels)\n",
        "\n",
        "\n",
        "\n",
        "\n",
        "model = Sequential()\n",
        "model.add(Flatten(input_shape=train_data.shape[1:]))\n",
        "model.add(Dense(256, activation='relu'))\n",
        "model.add(Dropout(0.5))\n",
        "model.add(Dense(1, activation='sigmoid'))\n",
        "\n",
        "model.compile(optimizer='rmsprop',\n",
        "                  loss='binary_crossentropy', metrics=['accuracy'])\n",
        "\n",
        "model.fit(train_data, train_labels,\n",
        "              epochs=epochs,\n",
        "              batch_size=batch_size,\n",
        "              validation_data=(validation_data, validation_labels))\n",
        "model.save_weights(top_model_weights_path)"
      ],
      "execution_count": 0,
      "outputs": [
        {
          "output_type": "stream",
          "text": [
            "1000\n",
            "train_labels.. [0 0 0 ... 1 1 1]\n",
            "Found 800 images belonging to 2 classes.\n",
            "400\n",
            "test_labels.. [0 0 0 0 0 0 0 0 0 0 0 0 0 0 0 0 0 0 0 0 0 0 0 0 0 0 0 0 0 0 0 0 0 0 0 0 0\n",
            " 0 0 0 0 0 0 0 0 0 0 0 0 0 0 0 0 0 0 0 0 0 0 0 0 0 0 0 0 0 0 0 0 0 0 0 0 0\n",
            " 0 0 0 0 0 0 0 0 0 0 0 0 0 0 0 0 0 0 0 0 0 0 0 0 0 0 0 0 0 0 0 0 0 0 0 0 0\n",
            " 0 0 0 0 0 0 0 0 0 0 0 0 0 0 0 0 0 0 0 0 0 0 0 0 0 0 0 0 0 0 0 0 0 0 0 0 0\n",
            " 0 0 0 0 0 0 0 0 0 0 0 0 0 0 0 0 0 0 0 0 0 0 0 0 0 0 0 0 0 0 0 0 0 0 0 0 0\n",
            " 0 0 0 0 0 0 0 0 0 0 0 0 0 0 0 0 0 0 0 0 0 0 0 0 0 0 0 0 0 0 0 0 0 0 0 0 0\n",
            " 0 0 0 0 0 0 0 0 0 0 0 0 0 0 0 0 0 0 0 0 0 0 0 0 0 0 0 0 0 0 0 0 0 0 0 0 0\n",
            " 0 0 0 0 0 0 0 0 0 0 0 0 0 0 0 0 0 0 0 0 0 0 0 0 0 0 0 0 0 0 0 0 0 0 0 0 0\n",
            " 0 0 0 0 0 0 0 0 0 0 0 0 0 0 0 0 0 0 0 0 0 0 0 0 0 0 0 0 0 0 0 0 0 0 0 0 0\n",
            " 0 0 0 0 0 0 0 0 0 0 0 0 0 0 0 0 0 0 0 0 0 0 0 0 0 0 0 0 0 0 0 0 0 0 0 0 0\n",
            " 0 0 0 0 0 0 0 0 0 0 0 0 0 0 0 0 0 0 0 0 0 0 0 0 0 0 0 0 0 0 1 1 1 1 1 1 1\n",
            " 1 1 1 1 1 1 1 1 1 1 1 1 1 1 1 1 1 1 1 1 1 1 1 1 1 1 1 1 1 1 1 1 1 1 1 1 1\n",
            " 1 1 1 1 1 1 1 1 1 1 1 1 1 1 1 1 1 1 1 1 1 1 1 1 1 1 1 1 1 1 1 1 1 1 1 1 1\n",
            " 1 1 1 1 1 1 1 1 1 1 1 1 1 1 1 1 1 1 1 1 1 1 1 1 1 1 1 1 1 1 1 1 1 1 1 1 1\n",
            " 1 1 1 1 1 1 1 1 1 1 1 1 1 1 1 1 1 1 1 1 1 1 1 1 1 1 1 1 1 1 1 1 1 1 1 1 1\n",
            " 1 1 1 1 1 1 1 1 1 1 1 1 1 1 1 1 1 1 1 1 1 1 1 1 1 1 1 1 1 1 1 1 1 1 1 1 1\n",
            " 1 1 1 1 1 1 1 1 1 1 1 1 1 1 1 1 1 1 1 1 1 1 1 1 1 1 1 1 1 1 1 1 1 1 1 1 1\n",
            " 1 1 1 1 1 1 1 1 1 1 1 1 1 1 1 1 1 1 1 1 1 1 1 1 1 1 1 1 1 1 1 1 1 1 1 1 1\n",
            " 1 1 1 1 1 1 1 1 1 1 1 1 1 1 1 1 1 1 1 1 1 1 1 1 1 1 1 1 1 1 1 1 1 1 1 1 1\n",
            " 1 1 1 1 1 1 1 1 1 1 1 1 1 1 1 1 1 1 1 1 1 1 1 1 1 1 1 1 1 1 1 1 1 1 1 1 1\n",
            " 1 1 1 1 1 1 1 1 1 1 1 1 1 1 1 1 1 1 1 1 1 1 1 1 1 1 1 1 1 1 1 1 1 1 1 1 1\n",
            " 1 1 1 1 1 1 1 1 1 1 1 1 1 1 1 1 1 1 1 1 1 1 1]\n",
            "Epoch 1/50\n",
            "125/125 [==============================] - 2s 20ms/step - loss: 0.7462 - accuracy: 0.7545 - val_loss: 0.5121 - val_accuracy: 0.7638\n",
            "Epoch 2/50\n",
            "125/125 [==============================] - 2s 19ms/step - loss: 0.3644 - accuracy: 0.8490 - val_loss: 0.2854 - val_accuracy: 0.8825\n",
            "Epoch 3/50\n",
            "125/125 [==============================] - 2s 19ms/step - loss: 0.3084 - accuracy: 0.8785 - val_loss: 0.3398 - val_accuracy: 0.8650\n",
            "Epoch 4/50\n",
            "125/125 [==============================] - 2s 19ms/step - loss: 0.2914 - accuracy: 0.8880 - val_loss: 0.2922 - val_accuracy: 0.8950\n",
            "Epoch 5/50\n",
            "125/125 [==============================] - 2s 20ms/step - loss: 0.2421 - accuracy: 0.9035 - val_loss: 0.3408 - val_accuracy: 0.8763\n",
            "Epoch 6/50\n",
            "125/125 [==============================] - 2s 19ms/step - loss: 0.2196 - accuracy: 0.9130 - val_loss: 0.2700 - val_accuracy: 0.9013\n",
            "Epoch 7/50\n",
            "125/125 [==============================] - 2s 20ms/step - loss: 0.1892 - accuracy: 0.9250 - val_loss: 0.3963 - val_accuracy: 0.8687\n",
            "Epoch 8/50\n",
            "125/125 [==============================] - 2s 20ms/step - loss: 0.1615 - accuracy: 0.9405 - val_loss: 0.4697 - val_accuracy: 0.8637\n",
            "Epoch 9/50\n",
            "125/125 [==============================] - 2s 19ms/step - loss: 0.1654 - accuracy: 0.9400 - val_loss: 0.3614 - val_accuracy: 0.8975\n",
            "Epoch 10/50\n",
            "125/125 [==============================] - 2s 20ms/step - loss: 0.1621 - accuracy: 0.9440 - val_loss: 0.3776 - val_accuracy: 0.8950\n",
            "Epoch 11/50\n",
            "125/125 [==============================] - 2s 19ms/step - loss: 0.1324 - accuracy: 0.9545 - val_loss: 0.3584 - val_accuracy: 0.8988\n",
            "Epoch 12/50\n",
            "125/125 [==============================] - 2s 20ms/step - loss: 0.1069 - accuracy: 0.9625 - val_loss: 0.4323 - val_accuracy: 0.8838\n",
            "Epoch 13/50\n",
            "125/125 [==============================] - 2s 19ms/step - loss: 0.1156 - accuracy: 0.9590 - val_loss: 0.5828 - val_accuracy: 0.8700\n",
            "Epoch 14/50\n",
            "125/125 [==============================] - 2s 19ms/step - loss: 0.1112 - accuracy: 0.9630 - val_loss: 0.4750 - val_accuracy: 0.8913\n",
            "Epoch 15/50\n",
            "125/125 [==============================] - 2s 20ms/step - loss: 0.0756 - accuracy: 0.9730 - val_loss: 0.5425 - val_accuracy: 0.8850\n",
            "Epoch 16/50\n",
            "125/125 [==============================] - 2s 19ms/step - loss: 0.0653 - accuracy: 0.9745 - val_loss: 0.6713 - val_accuracy: 0.8725\n",
            "Epoch 17/50\n",
            "125/125 [==============================] - 2s 20ms/step - loss: 0.0654 - accuracy: 0.9750 - val_loss: 0.6526 - val_accuracy: 0.8813\n",
            "Epoch 18/50\n",
            "125/125 [==============================] - 2s 19ms/step - loss: 0.0551 - accuracy: 0.9800 - val_loss: 0.5176 - val_accuracy: 0.8925\n",
            "Epoch 19/50\n",
            "125/125 [==============================] - 2s 19ms/step - loss: 0.0495 - accuracy: 0.9835 - val_loss: 0.7678 - val_accuracy: 0.8838\n",
            "Epoch 20/50\n",
            "125/125 [==============================] - 2s 19ms/step - loss: 0.0468 - accuracy: 0.9855 - val_loss: 0.6508 - val_accuracy: 0.8888\n",
            "Epoch 21/50\n",
            "125/125 [==============================] - 2s 19ms/step - loss: 0.0595 - accuracy: 0.9865 - val_loss: 0.6884 - val_accuracy: 0.8925\n",
            "Epoch 22/50\n",
            "125/125 [==============================] - 2s 20ms/step - loss: 0.0518 - accuracy: 0.9845 - val_loss: 0.6387 - val_accuracy: 0.8988\n",
            "Epoch 23/50\n",
            "125/125 [==============================] - 2s 20ms/step - loss: 0.0360 - accuracy: 0.9860 - val_loss: 0.7962 - val_accuracy: 0.8788\n",
            "Epoch 24/50\n",
            "125/125 [==============================] - 2s 19ms/step - loss: 0.0374 - accuracy: 0.9860 - val_loss: 0.7576 - val_accuracy: 0.8925\n",
            "Epoch 25/50\n",
            "125/125 [==============================] - 2s 19ms/step - loss: 0.0401 - accuracy: 0.9860 - val_loss: 0.8337 - val_accuracy: 0.8863\n",
            "Epoch 26/50\n",
            "125/125 [==============================] - 2s 20ms/step - loss: 0.0329 - accuracy: 0.9885 - val_loss: 0.6658 - val_accuracy: 0.8900\n",
            "Epoch 27/50\n",
            "125/125 [==============================] - 2s 20ms/step - loss: 0.0287 - accuracy: 0.9885 - val_loss: 0.7880 - val_accuracy: 0.8875\n",
            "Epoch 28/50\n",
            "125/125 [==============================] - 2s 20ms/step - loss: 0.0178 - accuracy: 0.9935 - val_loss: 1.0380 - val_accuracy: 0.8838\n",
            "Epoch 29/50\n",
            "125/125 [==============================] - 2s 20ms/step - loss: 0.0142 - accuracy: 0.9945 - val_loss: 1.2127 - val_accuracy: 0.8675\n",
            "Epoch 30/50\n",
            "125/125 [==============================] - 2s 19ms/step - loss: 0.0449 - accuracy: 0.9865 - val_loss: 0.7590 - val_accuracy: 0.8950\n",
            "Epoch 31/50\n",
            "125/125 [==============================] - 2s 20ms/step - loss: 0.0244 - accuracy: 0.9895 - val_loss: 1.0049 - val_accuracy: 0.8737\n",
            "Epoch 32/50\n",
            "125/125 [==============================] - 2s 20ms/step - loss: 0.0213 - accuracy: 0.9920 - val_loss: 0.8305 - val_accuracy: 0.8863\n",
            "Epoch 33/50\n",
            "125/125 [==============================] - 2s 20ms/step - loss: 0.0223 - accuracy: 0.9930 - val_loss: 0.9303 - val_accuracy: 0.8863\n",
            "Epoch 34/50\n",
            "125/125 [==============================] - 2s 20ms/step - loss: 0.0160 - accuracy: 0.9940 - val_loss: 0.9867 - val_accuracy: 0.8838\n",
            "Epoch 35/50\n",
            "125/125 [==============================] - 2s 20ms/step - loss: 0.0217 - accuracy: 0.9930 - val_loss: 0.9606 - val_accuracy: 0.8975\n",
            "Epoch 36/50\n",
            "125/125 [==============================] - 2s 20ms/step - loss: 0.0139 - accuracy: 0.9975 - val_loss: 1.1619 - val_accuracy: 0.8825\n",
            "Epoch 37/50\n",
            "125/125 [==============================] - 3s 20ms/step - loss: 0.0115 - accuracy: 0.9965 - val_loss: 1.0398 - val_accuracy: 0.8925\n",
            "Epoch 38/50\n",
            "125/125 [==============================] - 2s 19ms/step - loss: 0.0319 - accuracy: 0.9945 - val_loss: 1.0012 - val_accuracy: 0.8913\n",
            "Epoch 39/50\n",
            "125/125 [==============================] - 2s 19ms/step - loss: 0.0138 - accuracy: 0.9950 - val_loss: 1.0600 - val_accuracy: 0.8825\n",
            "Epoch 40/50\n",
            "125/125 [==============================] - 2s 20ms/step - loss: 0.0159 - accuracy: 0.9960 - val_loss: 1.0491 - val_accuracy: 0.8913\n",
            "Epoch 41/50\n",
            "125/125 [==============================] - 2s 20ms/step - loss: 0.0250 - accuracy: 0.9960 - val_loss: 1.1339 - val_accuracy: 0.8975\n",
            "Epoch 42/50\n",
            "125/125 [==============================] - 2s 20ms/step - loss: 0.0169 - accuracy: 0.9950 - val_loss: 1.4400 - val_accuracy: 0.8838\n",
            "Epoch 43/50\n",
            "125/125 [==============================] - 2s 20ms/step - loss: 0.0233 - accuracy: 0.9930 - val_loss: 1.1605 - val_accuracy: 0.8863\n",
            "Epoch 44/50\n",
            "125/125 [==============================] - 2s 19ms/step - loss: 0.0163 - accuracy: 0.9965 - val_loss: 1.0525 - val_accuracy: 0.8913\n",
            "Epoch 45/50\n",
            "125/125 [==============================] - 2s 20ms/step - loss: 0.0152 - accuracy: 0.9955 - val_loss: 1.0643 - val_accuracy: 0.8913\n",
            "Epoch 46/50\n",
            "125/125 [==============================] - 2s 20ms/step - loss: 0.0138 - accuracy: 0.9965 - val_loss: 1.4280 - val_accuracy: 0.8788\n",
            "Epoch 47/50\n",
            "125/125 [==============================] - 2s 19ms/step - loss: 0.0159 - accuracy: 0.9950 - val_loss: 1.1695 - val_accuracy: 0.8938\n",
            "Epoch 48/50\n",
            "125/125 [==============================] - 2s 19ms/step - loss: 0.0185 - accuracy: 0.9950 - val_loss: 1.1380 - val_accuracy: 0.8875\n",
            "Epoch 49/50\n",
            "125/125 [==============================] - 2s 19ms/step - loss: 0.0149 - accuracy: 0.9955 - val_loss: 1.2881 - val_accuracy: 0.8938\n",
            "Epoch 50/50\n",
            "125/125 [==============================] - 2s 20ms/step - loss: 0.0088 - accuracy: 0.9975 - val_loss: 1.2957 - val_accuracy: 0.8825\n"
          ],
          "name": "stdout"
        }
      ]
    },
    {
      "cell_type": "code",
      "metadata": {
        "id": "aNlybH2xpMkS",
        "colab_type": "code",
        "colab": {}
      },
      "source": [
        "model.save_weights('bottleneck_fc_model.h5')"
      ],
      "execution_count": 0,
      "outputs": []
    },
    {
      "cell_type": "code",
      "metadata": {
        "id": "JgygY5bqpQHf",
        "colab_type": "code",
        "outputId": "32be2554-0e04-43f5-9020-49e5fdbd04cb",
        "colab": {
          "base_uri": "https://localhost:8080/",
          "height": 88
        }
      },
      "source": [
        "\n",
        "predict = model.predict_classes(test_data)\n",
        "#threshold = 0.5"
      ],
      "execution_count": 0,
      "outputs": [
        {
          "output_type": "stream",
          "text": [
            "WARNING:tensorflow:From <ipython-input-79-d872cb52078c>:2: Sequential.predict_classes (from tensorflow.python.keras.engine.sequential) is deprecated and will be removed after 2021-01-01.\n",
            "Instructions for updating:\n",
            "Please use instead:* `np.argmax(model.predict(x), axis=-1)`,   if your model does multi-class classification   (e.g. if it uses a `softmax` last-layer activation).* `(model.predict(x) > 0.5).astype(\"int32\")`,   if your model does binary classification   (e.g. if it uses a `sigmoid` last-layer activation).\n"
          ],
          "name": "stdout"
        }
      ]
    },
    {
      "cell_type": "code",
      "metadata": {
        "id": "QialqZihz5PY",
        "colab_type": "code",
        "outputId": "65366113-1a05-41c3-a238-24a1bbf99192",
        "colab": {
          "base_uri": "https://localhost:8080/",
          "height": 34
        }
      },
      "source": [
        "predict.shape"
      ],
      "execution_count": 0,
      "outputs": [
        {
          "output_type": "execute_result",
          "data": {
            "text/plain": [
              "(800, 1)"
            ]
          },
          "metadata": {
            "tags": []
          },
          "execution_count": 83
        }
      ]
    },
    {
      "cell_type": "code",
      "metadata": {
        "id": "7QOS0hjk03He",
        "colab_type": "code",
        "outputId": "19102639-3b56-4399-f47f-af6503e9f026",
        "colab": {
          "base_uri": "https://localhost:8080/",
          "height": 153
        }
      },
      "source": [
        "test_data[0][0]"
      ],
      "execution_count": 0,
      "outputs": [
        {
          "output_type": "execute_result",
          "data": {
            "text/plain": [
              "array([[1.7716749 , 0.        , 0.        , ..., 0.        , 0.36058903,\n",
              "        0.        ],\n",
              "       [1.7197106 , 0.        , 0.12845671, ..., 0.        , 0.24575469,\n",
              "        0.        ],\n",
              "       [0.5449976 , 0.        , 0.08084852, ..., 0.        , 0.410981  ,\n",
              "        0.        ],\n",
              "       [0.40753874, 0.        , 0.        , ..., 0.        , 0.61257374,\n",
              "        0.        ]], dtype=float32)"
            ]
          },
          "metadata": {
            "tags": []
          },
          "execution_count": 87
        }
      ]
    },
    {
      "cell_type": "code",
      "metadata": {
        "colab_type": "code",
        "id": "M0UnANhkmGjV",
        "colab": {}
      },
      "source": [
        "#yhat = model.predict_generator(test_generator, steps=np.ceil(800/16))"
      ],
      "execution_count": 0,
      "outputs": []
    },
    {
      "cell_type": "code",
      "metadata": {
        "id": "rRfWe6UGOuoL",
        "colab_type": "code",
        "colab": {}
      },
      "source": [
        ""
      ],
      "execution_count": 0,
      "outputs": []
    },
    {
      "cell_type": "code",
      "metadata": {
        "id": "iv060SHC8i3O",
        "colab_type": "code",
        "outputId": "8f23911f-0366-4a3e-892b-d86302b3937c",
        "colab": {
          "base_uri": "https://localhost:8080/",
          "height": 34
        }
      },
      "source": [
        "TEST_SIZE = len([name for name in os.listdir(test_data_dir)])\n",
        "TEST_SIZE"
      ],
      "execution_count": 0,
      "outputs": [
        {
          "output_type": "execute_result",
          "data": {
            "text/plain": [
              "2"
            ]
          },
          "metadata": {
            "tags": []
          },
          "execution_count": 108
        }
      ]
    },
    {
      "cell_type": "code",
      "metadata": {
        "id": "K_gQl4GpGXjz",
        "colab_type": "code",
        "outputId": "c5cd4acb-0796-46c1-ed4b-9c6e687682a2",
        "colab": {
          "base_uri": "https://localhost:8080/",
          "height": 649
        }
      },
      "source": [
        "%%time\n",
        "import pandas as pd\n",
        "nb_test_samples = 800\n",
        "test_data_dir1 =r'/content/Transfer_Learning/Data_repo/test/'\n",
        "#print(test_data_dir1)\n",
        "# preparing testing data\n",
        "test_df = pd.DataFrame(columns=['Image_Id'])\n",
        "test_filenames = os.listdir(test_data_dir1)\n",
        "for i in range(len(test_filenames)):\n",
        "  print(\"/content/Transfer_Learning/Data_repo/test/\"+test_filenames[i]+\"/\")\n",
        "  print(test_filenames)\n",
        "  test_data_dir11=\"/content/Transfer_Learning/Data_repo/test/\"+test_filenames[i]+\"/\"\n",
        "  #print(\"new directory\",(test_data_dir11))\n",
        "  test_filenames1 = os.listdir(test_data_dir11)\n",
        "  test_df1 = pd.DataFrame({\n",
        "    'Image_Id': test_filenames1\n",
        "  })\n",
        "  print(\"test_df\",test_df)\n",
        "  test_df=test_df.append(test_df1,ignore_index = True) \n",
        "  print(\"test_df\",test_df.shape)\n",
        "\n",
        "  test_datagen = tf.keras.preprocessing.image.ImageDataGenerator(rescale = 1.0/255.)\n",
        "  print(\"new directory\",(test_data_dir11))\n",
        "  test_generator1 = test_datagen.flow_from_dataframe(\n",
        "    test_df, \n",
        "    test_data_dir1, \n",
        "    x_col='Image_Id',\n",
        "    y_col=None,\n",
        "    class_mode=None,\n",
        "    target_size=(img_width, img_height),\n",
        "    batch_size=batch_size,\n",
        "    shuffle=False\n",
        "    )"
      ],
      "execution_count": 0,
      "outputs": [
        {
          "output_type": "stream",
          "text": [
            "/content/Transfer_Learning/Data_repo/test/cat/\n",
            "['cat', 'dog']\n",
            "test_df Empty DataFrame\n",
            "Columns: [Image_Id]\n",
            "Index: []\n",
            "test_df (400, 1)\n",
            "bbbbbbbbbbb\n",
            "new directory /content/Transfer_Learning/Data_repo/test/cat/\n",
            "Found 0 validated image filenames.\n",
            "/content/Transfer_Learning/Data_repo/test/dog/\n",
            "['cat', 'dog']\n",
            "test_df          Image_Id\n",
            "0    cat.4737.jpg\n",
            "1    cat.4603.jpg\n",
            "2    cat.4659.jpg\n",
            "3    cat.4511.jpg\n",
            "4    cat.4690.jpg\n",
            "..            ...\n",
            "395  cat.4854.jpg\n",
            "396  cat.4677.jpg\n",
            "397  cat.4689.jpg\n",
            "398  cat.4602.jpg\n",
            "399  cat.4730.jpg\n",
            "\n",
            "[400 rows x 1 columns]\n",
            "test_df (800, 1)\n",
            "bbbbbbbbbbb\n",
            "new directory /content/Transfer_Learning/Data_repo/test/dog/\n",
            "Found 0 validated image filenames.\n",
            "ccccccccccc\n",
            "CPU times: user 29.3 ms, sys: 4.98 ms, total: 34.3 ms\n",
            "Wall time: 33.8 ms\n"
          ],
          "name": "stdout"
        },
        {
          "output_type": "stream",
          "text": [
            "/usr/local/lib/python3.6/dist-packages/keras_preprocessing/image/dataframe_iterator.py:273: UserWarning: Found 400 invalid image filename(s) in x_col=\"Image_Id\". These filename(s) will be ignored.\n",
            "  .format(n_invalid, x_col)\n",
            "/usr/local/lib/python3.6/dist-packages/keras_preprocessing/image/dataframe_iterator.py:273: UserWarning: Found 800 invalid image filename(s) in x_col=\"Image_Id\". These filename(s) will be ignored.\n",
            "  .format(n_invalid, x_col)\n"
          ],
          "name": "stderr"
        }
      ]
    },
    {
      "cell_type": "code",
      "metadata": {
        "id": "rRMbSeYCDl7r",
        "colab_type": "code",
        "outputId": "f8eb027d-ab84-4f31-b35f-4c30df212983",
        "colab": {
          "base_uri": "https://localhost:8080/",
          "height": 419
        }
      },
      "source": [
        "\n",
        "test_df"
      ],
      "execution_count": 0,
      "outputs": [
        {
          "output_type": "execute_result",
          "data": {
            "text/html": [
              "<div>\n",
              "<style scoped>\n",
              "    .dataframe tbody tr th:only-of-type {\n",
              "        vertical-align: middle;\n",
              "    }\n",
              "\n",
              "    .dataframe tbody tr th {\n",
              "        vertical-align: top;\n",
              "    }\n",
              "\n",
              "    .dataframe thead th {\n",
              "        text-align: right;\n",
              "    }\n",
              "</style>\n",
              "<table border=\"1\" class=\"dataframe\">\n",
              "  <thead>\n",
              "    <tr style=\"text-align: right;\">\n",
              "      <th></th>\n",
              "      <th>Image_Id</th>\n",
              "    </tr>\n",
              "  </thead>\n",
              "  <tbody>\n",
              "    <tr>\n",
              "      <th>0</th>\n",
              "      <td>cat.4737.jpg</td>\n",
              "    </tr>\n",
              "    <tr>\n",
              "      <th>1</th>\n",
              "      <td>cat.4603.jpg</td>\n",
              "    </tr>\n",
              "    <tr>\n",
              "      <th>2</th>\n",
              "      <td>cat.4659.jpg</td>\n",
              "    </tr>\n",
              "    <tr>\n",
              "      <th>3</th>\n",
              "      <td>cat.4511.jpg</td>\n",
              "    </tr>\n",
              "    <tr>\n",
              "      <th>4</th>\n",
              "      <td>cat.4690.jpg</td>\n",
              "    </tr>\n",
              "    <tr>\n",
              "      <th>...</th>\n",
              "      <td>...</td>\n",
              "    </tr>\n",
              "    <tr>\n",
              "      <th>795</th>\n",
              "      <td>dog.4765.jpg</td>\n",
              "    </tr>\n",
              "    <tr>\n",
              "      <th>796</th>\n",
              "      <td>dog.4749.jpg</td>\n",
              "    </tr>\n",
              "    <tr>\n",
              "      <th>797</th>\n",
              "      <td>dog.4755.jpg</td>\n",
              "    </tr>\n",
              "    <tr>\n",
              "      <th>798</th>\n",
              "      <td>dog.4627.jpg</td>\n",
              "    </tr>\n",
              "    <tr>\n",
              "      <th>799</th>\n",
              "      <td>dog.4564.jpg</td>\n",
              "    </tr>\n",
              "  </tbody>\n",
              "</table>\n",
              "<p>800 rows × 1 columns</p>\n",
              "</div>"
            ],
            "text/plain": [
              "         Image_Id\n",
              "0    cat.4737.jpg\n",
              "1    cat.4603.jpg\n",
              "2    cat.4659.jpg\n",
              "3    cat.4511.jpg\n",
              "4    cat.4690.jpg\n",
              "..            ...\n",
              "795  dog.4765.jpg\n",
              "796  dog.4749.jpg\n",
              "797  dog.4755.jpg\n",
              "798  dog.4627.jpg\n",
              "799  dog.4564.jpg\n",
              "\n",
              "[800 rows x 1 columns]"
            ]
          },
          "metadata": {
            "tags": []
          },
          "execution_count": 184
        }
      ]
    },
    {
      "cell_type": "code",
      "metadata": {
        "id": "_3QYEGSN9EJK",
        "colab_type": "code",
        "outputId": "62772eb6-a082-477e-e3bf-5ba3b11e1adb",
        "colab": {
          "base_uri": "https://localhost:8080/",
          "height": 204
        }
      },
      "source": [
        "predict = [1 if y > 0.5 else 0 for y in predict]\n",
        "\n",
        "test_df['label'] = predict\n",
        "test_df.head()\n",
        "# restoring back to class names (dog|cat)\n"
      ],
      "execution_count": 0,
      "outputs": [
        {
          "output_type": "execute_result",
          "data": {
            "text/html": [
              "<div>\n",
              "<style scoped>\n",
              "    .dataframe tbody tr th:only-of-type {\n",
              "        vertical-align: middle;\n",
              "    }\n",
              "\n",
              "    .dataframe tbody tr th {\n",
              "        vertical-align: top;\n",
              "    }\n",
              "\n",
              "    .dataframe thead th {\n",
              "        text-align: right;\n",
              "    }\n",
              "</style>\n",
              "<table border=\"1\" class=\"dataframe\">\n",
              "  <thead>\n",
              "    <tr style=\"text-align: right;\">\n",
              "      <th></th>\n",
              "      <th>Image_Id</th>\n",
              "      <th>label</th>\n",
              "    </tr>\n",
              "  </thead>\n",
              "  <tbody>\n",
              "    <tr>\n",
              "      <th>0</th>\n",
              "      <td>cat.4737.jpg</td>\n",
              "      <td>0</td>\n",
              "    </tr>\n",
              "    <tr>\n",
              "      <th>1</th>\n",
              "      <td>cat.4603.jpg</td>\n",
              "      <td>0</td>\n",
              "    </tr>\n",
              "    <tr>\n",
              "      <th>2</th>\n",
              "      <td>cat.4659.jpg</td>\n",
              "      <td>0</td>\n",
              "    </tr>\n",
              "    <tr>\n",
              "      <th>3</th>\n",
              "      <td>cat.4511.jpg</td>\n",
              "      <td>0</td>\n",
              "    </tr>\n",
              "    <tr>\n",
              "      <th>4</th>\n",
              "      <td>cat.4690.jpg</td>\n",
              "      <td>0</td>\n",
              "    </tr>\n",
              "  </tbody>\n",
              "</table>\n",
              "</div>"
            ],
            "text/plain": [
              "       Image_Id  label\n",
              "0  cat.4737.jpg      0\n",
              "1  cat.4603.jpg      0\n",
              "2  cat.4659.jpg      0\n",
              "3  cat.4511.jpg      0\n",
              "4  cat.4690.jpg      0"
            ]
          },
          "metadata": {
            "tags": []
          },
          "execution_count": 188
        }
      ]
    },
    {
      "cell_type": "code",
      "metadata": {
        "id": "iOHvrIbjQMBz",
        "colab_type": "code",
        "outputId": "2ef75f13-56d2-4dd9-89dd-f4f136c8fe01",
        "colab": {
          "base_uri": "https://localhost:8080/",
          "height": 34
        }
      },
      "source": [
        "test_df.shape"
      ],
      "execution_count": 0,
      "outputs": [
        {
          "output_type": "execute_result",
          "data": {
            "text/plain": [
              "(800, 2)"
            ]
          },
          "metadata": {
            "tags": []
          },
          "execution_count": 189
        }
      ]
    },
    {
      "cell_type": "code",
      "metadata": {
        "id": "PiRw8KFk9tMR",
        "colab_type": "code",
        "colab": {}
      },
      "source": [
        " \n",
        " test_df.to_csv('/content/Transfer_Learning/submission.csv',index=False)"
      ],
      "execution_count": 0,
      "outputs": []
    },
    {
      "cell_type": "code",
      "metadata": {
        "id": "HtNsmEu_Cc6Z",
        "colab_type": "code",
        "colab": {}
      },
      "source": [
        ""
      ],
      "execution_count": 0,
      "outputs": []
    }
  ]
}